{
  "nbformat": 4,
  "nbformat_minor": 0,
  "metadata": {
    "colab": {
      "provenance": [],
      "authorship_tag": "ABX9TyNwxe7UN9CXoykQysIRfdC5",
      "include_colab_link": true
    },
    "kernelspec": {
      "name": "python3",
      "display_name": "Python 3"
    },
    "language_info": {
      "name": "python"
    }
  },
  "cells": [
    {
      "cell_type": "markdown",
      "metadata": {
        "id": "view-in-github",
        "colab_type": "text"
      },
      "source": [
        "<a href=\"https://colab.research.google.com/github/sovank/dsa-with-python/blob/main/Day_63_DSA_Queues_Implementation_%26_Problems.ipynb\" target=\"_parent\"><img src=\"https://colab.research.google.com/assets/colab-badge.svg\" alt=\"Open In Colab\"/></a>"
      ]
    },
    {
      "cell_type": "code",
      "execution_count": null,
      "metadata": {
        "colab": {
          "base_uri": "https://localhost:8080/"
        },
        "id": "rJk4IiarzWd9",
        "outputId": "58c34dbe-e0fc-4895-cce4-f4513d3c8015"
      },
      "outputs": [
        {
          "output_type": "stream",
          "name": "stdout",
          "text": [
            "['', '1', '2', '', '', '', '', '', '', '', '', '', '', '', '']\n",
            "deque(['1', '2'])\n",
            "\n",
            "['', '1', '2', '11', '12', '21', '22', '111', '112', '', '', '', '', '', '']\n",
            "deque(['12', '21', '22', '111', '112'])\n",
            "2112\n"
          ]
        }
      ],
      "source": [
        "from collections import deque\n",
        "A = 5\n",
        "s = ['' for i in range(15)]\n",
        "\n",
        "# The first two sequences are \"1\" and \"2\"\n",
        "s[1] = '1'\n",
        "s[2] = '2'\n",
        "print(s)\n",
        "\n",
        "queue = deque()\n",
        "queue.append(s[1])\n",
        "queue.append(s[2])\n",
        "print(queue)\n",
        "print()\n",
        "idx = 3\n",
        "while idx < A + 3:\n",
        "  ss = queue.popleft()\n",
        "\n",
        "  s[idx] = ss + '1'\n",
        "  idx += 1\n",
        "  queue.append(ss + '1')\n",
        "\n",
        "  s[idx] = ss + '2'\n",
        "  idx += 1\n",
        "  queue.append(ss + '2')\n",
        "\n",
        "print(s)\n",
        "print(queue)\n",
        "\n",
        "ans = s[A]\n",
        "ans_rev = ans[::-1]\n",
        "ans = ans + ans_rev\n",
        "\n",
        "print(ans)"
      ]
    },
    {
      "cell_type": "code",
      "source": [
        "arr = [2, 6, 3, 8, 2, 8, 2, 3, 8, 10, 6 ]\n",
        "dic = {}\n",
        "q= [2,8,3,5]\n",
        "\n",
        "for n in arr:\n",
        "  if n in dic:\n",
        "      dic[n] += 1\n",
        "  else:\n",
        "    dic[n] = 1\n",
        "\n",
        "\n",
        "for num in q:\n",
        "  if num in dic:\n",
        "    print(num, \":\", dic[num])\n",
        "  else:\n",
        "    print(num, \":\", 0)"
      ],
      "metadata": {
        "colab": {
          "base_uri": "https://localhost:8080/"
        },
        "id": "tfSV6qpaGnbr",
        "outputId": "69e059b6-2d95-415c-c361-318cca4f5dc6"
      },
      "execution_count": 14,
      "outputs": [
        {
          "output_type": "stream",
          "name": "stdout",
          "text": [
            "2 : 3\n",
            "8 : 3\n",
            "3 : 2\n",
            "5 : 0\n"
          ]
        }
      ]
    },
    {
      "cell_type": "code",
      "source": [
        "class Solution:\n",
        "    def solve(self, A):\n",
        "        frequency = {}\n",
        "\n",
        "        # Calculate the frequency of each element\n",
        "        for num in A:\n",
        "            if num in frequency:\n",
        "                frequency[num] += 1\n",
        "            else:\n",
        "                frequency[num] = 1\n",
        "\n",
        "        # Count elements with frequency 1\n",
        "        unique_count = sum(1 for count in frequency.values() if count == 1)\n",
        "\n",
        "        return unique_count\n",
        "\n",
        "\n",
        "A = [3, 4, 3, 6, 6]\n",
        "s = Solution()\n",
        "ans = s.solve(A)\n",
        "print(ans)"
      ],
      "metadata": {
        "colab": {
          "base_uri": "https://localhost:8080/"
        },
        "id": "Fgq_ZEbFIhCt",
        "outputId": "72eae3ae-a7a4-431c-b939-8260b2d07eb5"
      },
      "execution_count": 15,
      "outputs": [
        {
          "output_type": "stream",
          "name": "stdout",
          "text": [
            "1\n"
          ]
        }
      ]
    },
    {
      "cell_type": "code",
      "source": [],
      "metadata": {
        "id": "11T_jEmMKoGA"
      },
      "execution_count": null,
      "outputs": []
    }
  ]
}