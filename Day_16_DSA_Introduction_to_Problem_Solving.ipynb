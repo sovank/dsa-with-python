{
  "nbformat": 4,
  "nbformat_minor": 0,
  "metadata": {
    "colab": {
      "provenance": [],
      "authorship_tag": "ABX9TyMzvhkAS0iL1KXC3YFeHOdq",
      "include_colab_link": true
    },
    "kernelspec": {
      "name": "python3",
      "display_name": "Python 3"
    },
    "language_info": {
      "name": "python"
    }
  },
  "cells": [
    {
      "cell_type": "markdown",
      "metadata": {
        "id": "view-in-github",
        "colab_type": "text"
      },
      "source": [
        "<a href=\"https://colab.research.google.com/github/Phanindra2009/dsa-with-python/blob/main/Day_16_DSA_Introduction_to_Problem_Solving.ipynb\" target=\"_parent\"><img src=\"https://colab.research.google.com/assets/colab-badge.svg\" alt=\"Open In Colab\"/></a>"
      ]
    },
    {
      "cell_type": "markdown",
      "source": [
        "# Q1. Count Factors - 2\n",
        "Given an integer A, you need to find the count of it's factors.\n",
        "\n",
        "Factor of a number is the number which divides it perfectly leaving no remainder.\n",
        "\n",
        "\n",
        "Problem Constraints:\n",
        "\n",
        "# 1 <= A <= 10^9\n",
        "\n",
        "\n",
        "Example Input:\n",
        "\n",
        "Input 1:\n",
        "\n",
        "5\n",
        "\n",
        "Input 2:\n",
        "\n",
        "10\n",
        "\n",
        "\n",
        "Example Output:\n",
        "\n",
        "Output 1:\n",
        "\n",
        "2\n",
        "\n",
        "Output 2:\n",
        "\n",
        "4\n",
        "\n",
        "\n",
        "Example Explanation\n",
        "\n",
        "Explanation 1:\n",
        "\n",
        "Factors of 5 are 1 and 5.\n",
        "\n",
        "Explanation 2:\n",
        "\n",
        "Factors of 10 are 1, 2, 5 and 10."
      ],
      "metadata": {
        "id": "NwvYXvllHYT3"
      }
    },
    {
      "cell_type": "markdown",
      "source": [
        "Brute force method to solve the example"
      ],
      "metadata": {
        "id": "7MtT4XE9ViO1"
      }
    },
    {
      "cell_type": "code",
      "source": [
        "A = int(input())\n",
        "cnt_factors = 0\n",
        "for i in range(1,A+1):\n",
        "  if A % i == 0:\n",
        "    cnt_factors += 1\n",
        "print(cnt_factors)"
      ],
      "metadata": {
        "id": "OyFS_L3PU3mb"
      },
      "execution_count": null,
      "outputs": []
    },
    {
      "cell_type": "markdown",
      "source": [
        "Above code fails because the no. of iterations to get the result increases as the integer gets bigger.As we can observe costraint is 1 <= A <= 10^9.\n",
        "\n",
        "This is optimized way to find the factors of the integer A."
      ],
      "metadata": {
        "id": "8Bl9riePU_fc"
      }
    },
    {
      "cell_type": "code",
      "source": [
        "A = int(input())\n",
        "i = 1\n",
        "cnt_factors = 0\n",
        "while i*i <= A:\n",
        "    if A % i == 0:\n",
        "        if i*i == A:\n",
        "            cnt_factors += 1\n",
        "        else:\n",
        "            cnt_factors += 2\n",
        "    i += 1\n",
        "print(cnt_factors)"
      ],
      "metadata": {
        "id": "8CJx0wY5ULux"
      },
      "execution_count": null,
      "outputs": []
    },
    {
      "cell_type": "markdown",
      "source": [
        "# Q2. IsPrime\n",
        "\n",
        "Given a number A. Return 1 if A is prime and return 0 if not.\n",
        "\n",
        "Note :\n",
        "The value of A can cross the range of Integer.\n",
        "\n",
        "Problem Constraints\n",
        "\n",
        "# 1 <= A <= 10^9\n",
        "\n",
        "Example Input:\n",
        "\n",
        "Input 1:\n",
        "\n",
        "5\n",
        "\n",
        "Input 2:\n",
        "\n",
        "10\n",
        "\n",
        "\n",
        "Example Output:\n",
        "\n",
        "Output 1:\n",
        "\n",
        "1\n",
        "\n",
        "Output 2:\n",
        "\n",
        "0\n",
        "\n",
        "Example Explanation\n",
        "\n",
        "Explanation 1:\n",
        "\n",
        "5 is a prime number.\n",
        "\n",
        "Explanation 2:\n",
        "\n",
        "10 is not a prime number."
      ],
      "metadata": {
        "id": "0nmD2sfhYUCS"
      }
    },
    {
      "cell_type": "markdown",
      "source": [
        "Brute force method is same as Q1 problem but we will add a condition where\n",
        "\n",
        "cnt_fators should be equal to 2"
      ],
      "metadata": {
        "id": "UZYQB__dZQDp"
      }
    },
    {
      "cell_type": "code",
      "source": [
        "A = int(input())\n",
        "i = 1\n",
        "cnt_factors = 0\n",
        "while i*i <= A:\n",
        "    if A % i == 0:\n",
        "        if i*i == A:\n",
        "            cnt_factors += 1\n",
        "        else:\n",
        "            cnt_factors += 2\n",
        "    i += 1\n",
        "if cnt_factors == 2:\n",
        "  print(1)\n",
        "else:\n",
        "  print(0)\n"
      ],
      "metadata": {
        "id": "_qeG3hKvYTn6"
      },
      "execution_count": null,
      "outputs": []
    },
    {
      "cell_type": "markdown",
      "source": [
        "# Q3.Find Perfect Numbers\n",
        "Problem Description:\n",
        "You are given an integer A. You have to tell whether it is a perfect number or not.Perfect number is a positive integer which is equal to the sum of its proper positive divisors.A proper divisor of a natural number is the divisor that is strictly less than the number.\n",
        "\n",
        "Problem Constraints\n",
        "\n",
        "# 1 <= A <= 10^6\n",
        "\n",
        "Example Input:\n",
        "\n",
        "Input 1:\n",
        "\n",
        "4\n",
        "\n",
        "Input 2:\n",
        "\n",
        "6\n",
        "\n",
        "Example Output:\n",
        "\n",
        "Output 1:\n",
        "\n",
        "0\n",
        "\n",
        "Output 2:\n",
        "\n",
        "1\n",
        "\n",
        "Example Explanation\n",
        "\n",
        "Explanation 1:\n",
        "\n",
        "For A = 4, the sum of its proper divisors = 1 + 2 = 3, is not equal to 4.\n",
        "\n",
        "Explanation 2:\n",
        "\n",
        "For A = 6, the sum of its proper divisors = 1 + 2 + 3 = 6, is equal to 6."
      ],
      "metadata": {
        "id": "9rcoI4V_bNUJ"
      }
    },
    {
      "cell_type": "code",
      "source": [
        "A = int(input())\n",
        "_sum_of_proper_divisors = 0\n",
        "i = 1\n",
        "while i*i <= A:\n",
        "    if A % i == 0:\n",
        "        if i*i != A:\n",
        "            _sum_of_proper_divisors += (i + A//i)\n",
        "        else:\n",
        "            _sum_of_proper_divisors += i\n",
        "    i += 1\n",
        "if _sum_of_proper_divisors == 2*A:\n",
        "    print(1)\n",
        "else:\n",
        "    print(0)"
      ],
      "metadata": {
        "id": "oMgW7yoTaP7b"
      },
      "execution_count": null,
      "outputs": []
    },
    {
      "cell_type": "markdown",
      "source": [
        "# Q4. Count of primes\n",
        "You will be given an integer n. You need to return the count of prime numbers less than or equal to n.\n",
        "\n",
        "Problem Constraints\n",
        "\n",
        "# 1 <= A <= 10^3\n",
        "\n",
        "Example Input:\n",
        "\n",
        "Input 1:\n",
        "\n",
        "19\n",
        "\n",
        "Input 2:\n",
        "\n",
        "1\n",
        "\n",
        "Example Output:\n",
        "\n",
        "Output 1:\n",
        "\n",
        "8\n",
        "\n",
        "Output 2:\n",
        "\n",
        "0\n",
        "\n",
        "Example Explanation\n",
        "\n",
        "Explanation 1:\n",
        "\n",
        "Primes <= 19 are 2, 3, 5, 7, 11, 13, 17, 19\n",
        "\n",
        "Explanation 2:\n",
        "\n",
        "There are no primes <= 1"
      ],
      "metadata": {
        "id": "GC2OcD63kyCH"
      }
    },
    {
      "cell_type": "code",
      "source": [
        "def isprime(A):\n",
        "  i = 1\n",
        "  cnt_factors = 0\n",
        "  while i*i <= A:\n",
        "      if A % i == 0:\n",
        "          if i*i == A:\n",
        "              cnt_factors += 1\n",
        "          else:\n",
        "              cnt_factors += 2\n",
        "      i += 1\n",
        "  if cnt_factors == 2:\n",
        "    return 1\n",
        "  else:\n",
        "    return 0\n",
        "B = int(input())\n",
        "cnt_of_prime = 0\n",
        "for i in range(1,B+1):\n",
        "  if isprime(i):\n",
        "    cnt_of_prime += 1\n",
        "print(cnt_of_prime)\n",
        ""
      ],
      "metadata": {
        "id": "n9OqMYaYkHuf"
      },
      "execution_count": null,
      "outputs": []
    }
  ]
}