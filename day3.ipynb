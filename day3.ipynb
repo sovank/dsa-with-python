{
  "nbformat": 4,
  "nbformat_minor": 0,
  "metadata": {
    "colab": {
      "provenance": [],
      "authorship_tag": "ABX9TyOGd/RIf9ZRIpLnfBE00dXC",
      "include_colab_link": true
    },
    "kernelspec": {
      "name": "python3",
      "display_name": "Python 3"
    },
    "language_info": {
      "name": "python"
    }
  },
  "cells": [
    {
      "cell_type": "markdown",
      "metadata": {
        "id": "view-in-github",
        "colab_type": "text"
      },
      "source": [
        "<a href=\"https://colab.research.google.com/github/Phanindra2009/dsa-with-python/blob/main/day3.ipynb\" target=\"_parent\"><img src=\"https://colab.research.google.com/assets/colab-badge.svg\" alt=\"Open In Colab\"/></a>"
      ]
    },
    {
      "cell_type": "code",
      "execution_count": null,
      "metadata": {
        "colab": {
          "base_uri": "https://localhost:8080/"
        },
        "id": "h0a0rbtGv6nW",
        "outputId": "e159e801-05b9-4320-87f7-1da2d40588b7"
      },
      "outputs": [
        {
          "output_type": "stream",
          "name": "stdout",
          "text": [
            "whats the time? -4\n",
            "good night\n"
          ]
        }
      ],
      "source": [
        "time_is = int(input('whats the time? -'))\n",
        "\n",
        "if time_is>6 and time_is<=12:\n",
        "  print(\"good morniing\")\n",
        "else:\n",
        "  if time_is>12 and time_is<=16:\n",
        "    print(\"good Afternooon\")\n",
        "  else:\n",
        "    if time_is>16 and time_is<=20:\n",
        "      print(\"good Evening\")\n",
        "    else:\n",
        "      print(\"good night\")"
      ]
    },
    {
      "cell_type": "code",
      "source": [
        "time_is = int(input('whats the time? -'))\n",
        "if time_is>6 and time_is<=12:\n",
        "  print(\"good morniing\")\n",
        "elif time_is<=16:\n",
        "  print(\"good Afternooon\")\n",
        "elif time_is<=20:\n",
        "  print(\"good Evening\")\n",
        "else:\n",
        "  print(\"good night\")"
      ],
      "metadata": {
        "colab": {
          "base_uri": "https://localhost:8080/"
        },
        "id": "ZkGhbfuLyUZD",
        "outputId": "65f8c85c-f6b1-4a45-d7fc-391c4ee4d2cf"
      },
      "execution_count": null,
      "outputs": [
        {
          "output_type": "stream",
          "name": "stdout",
          "text": [
            "whats the time? -17\n",
            "good Evening\n"
          ]
        }
      ]
    },
    {
      "cell_type": "code",
      "source": [
        "Amount = int(input(\"Please enter the amount - \"))\n",
        "a = Amount%500\n",
        "b = Amount%200\n",
        "print(a,b)\n",
        "if a and b:\n",
        "  print(\"Please enter valid input\")\n",
        "else:\n",
        "  print(\"Take the money\")\n",
        "print(type(Amount))"
      ],
      "metadata": {
        "colab": {
          "base_uri": "https://localhost:8080/"
        },
        "id": "xXnoXuuG4Ler",
        "outputId": "a23801d2-eee6-4126-c96f-ce1264c228a7"
      },
      "execution_count": null,
      "outputs": [
        {
          "output_type": "stream",
          "name": "stdout",
          "text": [
            "Please enter the amount - 1500\n",
            "0 100\n",
            "Take the money\n",
            "<class 'int'>\n"
          ]
        }
      ]
    },
    {
      "cell_type": "code",
      "source": [
        "a=2\n",
        "if (a%2!=0):\n",
        "      print(\"TRUE\")"
      ],
      "metadata": {
        "id": "cjMI0g267lU-"
      },
      "execution_count": null,
      "outputs": []
    },
    {
      "cell_type": "code",
      "source": [
        "thislist = [\"apple\", \"banana\", \"cherry\"]\n",
        "type(thislist)\n",
        "print(type(thislist))"
      ],
      "metadata": {
        "colab": {
          "base_uri": "https://localhost:8080/"
        },
        "id": "XrZHy6MAYC4A",
        "outputId": "c41c54c2-2d55-4b25-eb0e-d8c7599f3196"
      },
      "execution_count": null,
      "outputs": [
        {
          "output_type": "stream",
          "name": "stdout",
          "text": [
            "<class 'list'>\n"
          ]
        }
      ]
    },
    {
      "cell_type": "code",
      "source": [
        "A = [1,2,3,3,4,2]\n",
        "A.sort()\n",
        "A"
      ],
      "metadata": {
        "id": "3PvnlD7YYK8Y",
        "colab": {
          "base_uri": "https://localhost:8080/"
        },
        "outputId": "c298a050-2453-4275-adfd-28388e5b9ac0"
      },
      "execution_count": null,
      "outputs": [
        {
          "output_type": "execute_result",
          "data": {
            "text/plain": [
              "[1, 2, 2, 3, 3, 4]"
            ]
          },
          "metadata": {},
          "execution_count": 2
        }
      ]
    },
    {
      "cell_type": "code",
      "source": [
        "A = {'t1' : 5, 't2' : 10, 't3' : 15}\n",
        "B = {'t3' : 12, 't4' : 20}\n",
        "\n",
        "for key,value in B:\n",
        "        if key in A:\n",
        "            if A[key] < value:\n",
        "                A[key] = value\n",
        "        else:\n",
        "            A[key] = value\n",
        "A"
      ],
      "metadata": {
        "id": "S_O-7iG-0wxn",
        "colab": {
          "base_uri": "https://localhost:8080/"
        },
        "outputId": "9691c79e-0785-432a-d040-866f66334080"
      },
      "execution_count": null,
      "outputs": [
        {
          "output_type": "execute_result",
          "data": {
            "text/plain": [
              "{'t1': 5, 't2': 10, 't3': 15, 't': '4'}"
            ]
          },
          "metadata": {},
          "execution_count": 6
        }
      ]
    },
    {
      "cell_type": "code",
      "source": [
        "_ = input().split()\n",
        "\n",
        "a = _[:2]\n",
        "a"
      ],
      "metadata": {
        "id": "Kv3sPTG-mqbY",
        "colab": {
          "base_uri": "https://localhost:8080/"
        },
        "outputId": "a38a996b-c7ea-42d2-f75a-5f8b630b993f"
      },
      "execution_count": null,
      "outputs": [
        {
          "name": "stdout",
          "output_type": "stream",
          "text": [
            "khjl jhb jbiuh uyhhu\n"
          ]
        },
        {
          "output_type": "execute_result",
          "data": {
            "text/plain": [
              "['khjl', 'jhb']"
            ]
          },
          "metadata": {},
          "execution_count": 33
        }
      ]
    },
    {
      "cell_type": "code",
      "source": [
        "digits = map(int,[code[0],code[1],code[3],code[4],code[5],code[7],code[8]])"
      ],
      "metadata": {
        "id": "thI7BO0qxDMO"
      },
      "execution_count": null,
      "outputs": []
    },
    {
      "cell_type": "code",
      "source": [
        "z = [1,2,3,4,5,6]\n",
        "y = map(str,z)"
      ],
      "metadata": {
        "id": "cXoSX2L4xm4l"
      },
      "execution_count": null,
      "outputs": []
    },
    {
      "cell_type": "code",
      "source": [
        "y"
      ],
      "metadata": {
        "colab": {
          "base_uri": "https://localhost:8080/"
        },
        "id": "Epw_7NgG4agH",
        "outputId": "b163b357-43b2-4f7c-9421-6c84bc48d214"
      },
      "execution_count": null,
      "outputs": [
        {
          "output_type": "execute_result",
          "data": {
            "text/plain": [
              "<map at 0x7d3e3f4a41c0>"
            ]
          },
          "metadata": {},
          "execution_count": 35
        }
      ]
    },
    {
      "cell_type": "code",
      "source": [
        "y[1]"
      ],
      "metadata": {
        "colab": {
          "base_uri": "https://localhost:8080/",
          "height": 141
        },
        "id": "y1_rP8NF4bYW",
        "outputId": "3087188b-9ee3-4e0e-a803-e95e7a382ba8"
      },
      "execution_count": null,
      "outputs": [
        {
          "output_type": "error",
          "ename": "TypeError",
          "evalue": "'map' object is not subscriptable",
          "traceback": [
            "\u001b[0;31m---------------------------------------------------------------------------\u001b[0m",
            "\u001b[0;31mTypeError\u001b[0m                                 Traceback (most recent call last)",
            "\u001b[0;32m<ipython-input-36-1b79866731d8>\u001b[0m in \u001b[0;36m<cell line: 1>\u001b[0;34m()\u001b[0m\n\u001b[0;32m----> 1\u001b[0;31m \u001b[0my\u001b[0m\u001b[0;34m[\u001b[0m\u001b[0;36m1\u001b[0m\u001b[0;34m]\u001b[0m\u001b[0;34m\u001b[0m\u001b[0;34m\u001b[0m\u001b[0m\n\u001b[0m",
            "\u001b[0;31mTypeError\u001b[0m: 'map' object is not subscriptable"
          ]
        }
      ]
    },
    {
      "cell_type": "code",
      "source": [],
      "metadata": {
        "id": "ByrQ6wzV4gQu"
      },
      "execution_count": null,
      "outputs": []
    }
  ]
}