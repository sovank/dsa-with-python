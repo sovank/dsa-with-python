{
  "nbformat": 4,
  "nbformat_minor": 0,
  "metadata": {
    "colab": {
      "provenance": [],
      "authorship_tag": "ABX9TyMPEDAhWhnTJIcLLDc2fKdE",
      "include_colab_link": true
    },
    "kernelspec": {
      "name": "python3",
      "display_name": "Python 3"
    },
    "language_info": {
      "name": "python"
    }
  },
  "cells": [
    {
      "cell_type": "markdown",
      "metadata": {
        "id": "view-in-github",
        "colab_type": "text"
      },
      "source": [
        "<a href=\"https://colab.research.google.com/github/sovank/dsa-with-python/blob/main/Day_64_DSA_Trees_1_Structure_%26_Traversal.ipynb\" target=\"_parent\"><img src=\"https://colab.research.google.com/assets/colab-badge.svg\" alt=\"Open In Colab\"/></a>"
      ]
    },
    {
      "cell_type": "code",
      "execution_count": 6,
      "metadata": {
        "colab": {
          "base_uri": "https://localhost:8080/"
        },
        "id": "6bMfmow_yzSC",
        "outputId": "57ed2c71-60f1-438f-b845-47e850c59427"
      },
      "outputs": [
        {
          "output_type": "stream",
          "name": "stdout",
          "text": [
            "[3, 5, 8, 10, 12, 15, 18]\n"
          ]
        }
      ],
      "source": [
        "class TreeNode:\n",
        "  def __init__(self, x):\n",
        "    self.val = x\n",
        "    self.left = None\n",
        "    self.right = None\n",
        "\n",
        "class Solution:\n",
        "  def Traverse_Iteratively_Inorder(self, root):\n",
        "    result = []\n",
        "    stack = []\n",
        "    current = root\n",
        "\n",
        "    while current or stack:\n",
        "\n",
        "      while current:\n",
        "        stack.append(current)\n",
        "        current = current.left\n",
        "\n",
        "      current = stack.pop()\n",
        "      result.append(current.val)\n",
        "      current = current.right\n",
        "\n",
        "    return result\n",
        "\n",
        "root = TreeNode(10)\n",
        "root.left = TreeNode(5)\n",
        "root.right = TreeNode(15)\n",
        "root.left.left = TreeNode(3)\n",
        "root.left.right = TreeNode(8)\n",
        "root.right.left = TreeNode(12)\n",
        "root.right.right = TreeNode(18)\n",
        "\n",
        "solution = Solution()\n",
        "print(solution.Traverse_Iteratively_Inorder(root))\n",
        "\n",
        "# T.C ~ O(N)\n",
        "# S.C ~ O(H)"
      ]
    },
    {
      "cell_type": "code",
      "source": [],
      "metadata": {
        "id": "FY1XlmZL1q-s"
      },
      "execution_count": null,
      "outputs": []
    }
  ]
}