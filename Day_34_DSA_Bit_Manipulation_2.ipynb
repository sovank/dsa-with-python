{
  "nbformat": 4,
  "nbformat_minor": 0,
  "metadata": {
    "colab": {
      "provenance": [],
      "authorship_tag": "ABX9TyMDl4B0q+QuenCdm07uJBn8",
      "include_colab_link": true
    },
    "kernelspec": {
      "name": "python3",
      "display_name": "Python 3"
    },
    "language_info": {
      "name": "python"
    }
  },
  "cells": [
    {
      "cell_type": "markdown",
      "metadata": {
        "id": "view-in-github",
        "colab_type": "text"
      },
      "source": [
        "<a href=\"https://colab.research.google.com/github/Phanindra2009/dsa-with-python/blob/main/Day_34_DSA_Bit_Manipulation_2.ipynb\" target=\"_parent\"><img src=\"https://colab.research.google.com/assets/colab-badge.svg\" alt=\"Open In Colab\"/></a>"
      ]
    },
    {
      "cell_type": "markdown",
      "source": [
        "# **Q1. Single Number**\n",
        "Problem Description:\n",
        "\n",
        "Given an array of integers A, every element appears twice except for one. Find that integer that occurs once.\n",
        "\n",
        "**NOTE**: Your algorithm should have a linear runtime complexity. Could you implement it without using extra memory?\n",
        "\n",
        "\n",
        "\n",
        "Problem Constraints:\n",
        "\n",
        "## 1 <= |A| <= 2000000\n",
        "\n",
        "## 0 <= A[i] <= INTMAX\n",
        "\n",
        "\n",
        "\n",
        "Input Format:\n",
        "\n",
        "The first and only input of input contains an integer array A.\n",
        "\n",
        "\n",
        "\n",
        "Output Format:\n",
        "\n",
        "Print a single integer denoting the single element.\n",
        "\n",
        "\n",
        "\n",
        "Example Input:\n",
        "\n",
        "Input 1:\n",
        "\n",
        " A = [1, 2, 2, 3, 1]\n",
        "\n",
        "Input 2:\n",
        "\n",
        " A = [1, 2, 2]\n",
        "\n",
        "\n",
        "Example Output:\n",
        "\n",
        "Output 1:\n",
        "\n",
        " 3\n",
        "Output 2:\n",
        "\n",
        " 1\n",
        "\n",
        "\n",
        "Example Explanation:\n",
        "\n",
        "Explanation 1:\n",
        "\n",
        "3 occurs once.\n",
        "\n",
        "Explanation 2:\n",
        "\n",
        "1 occurs once."
      ],
      "metadata": {
        "id": "StBQukTUDrmR"
      }
    },
    {
      "cell_type": "markdown",
      "source": [
        "# **Brute Force**"
      ],
      "metadata": {
        "id": "XmYm9WWXE2Cx"
      }
    },
    {
      "cell_type": "code",
      "execution_count": null,
      "metadata": {
        "id": "Zo8HTimrDl68"
      },
      "outputs": [],
      "source": [
        "A = list(map(int,input().split()))\n",
        "N = len(A)\n",
        "for i in range(N):\n",
        "  count = A.count(A[i])\n",
        "  if count != 2:\n",
        "    print(A[i])\n",
        "    break"
      ]
    },
    {
      "cell_type": "markdown",
      "source": [
        "# **Optimized Soultion**"
      ],
      "metadata": {
        "id": "zozrqGYuKaxa"
      }
    },
    {
      "cell_type": "code",
      "source": [
        "A = list(map(int,input().split()))\n",
        "Ans = 0\n",
        "for i in A:\n",
        "  Ans ^= i\n",
        "print(Ans)"
      ],
      "metadata": {
        "id": "Y1Wkv8xpHDnQ"
      },
      "execution_count": null,
      "outputs": []
    },
    {
      "cell_type": "markdown",
      "source": [
        "# **Q2. Single Number II**\n",
        "Problem Description:\n",
        "\n",
        "Given an array of integers, every element appears thrice except for one, which occurs once.\n",
        "\n",
        "Find that element that does not appear thrice.\n",
        "\n",
        "NOTE: Your algorithm should have a linear runtime complexity.\n",
        "\n",
        "Could you implement it without using extra memory?\n",
        "\n",
        "\n",
        "\n",
        "\n",
        "Problem Constraints:\n",
        "\n",
        "## 2 <= A <= 5*10^6\n",
        "\n",
        "## 0 <= A <= INTMAX\n",
        "\n",
        "\n",
        "\n",
        "Input Format:\n",
        "\n",
        "First and only input of input contains an integer array A.\n",
        "\n",
        "\n",
        "\n",
        "Output Format:\n",
        "\n",
        "Print a single integer.\n",
        "\n",
        "\n",
        "\n",
        "Example Input:\n",
        "\n",
        "Input 1:\n",
        "\n",
        " A = [1, 2, 4, 3, 3, 2, 2, 3, 1, 1]\n",
        "\n",
        "Input 2:\n",
        "\n",
        " A = [0, 0, 0, 1]\n",
        "\n",
        "\n",
        "Example Output:\n",
        "\n",
        "Output 1:\n",
        "\n",
        " 4\n",
        "\n",
        "Output 2:\n",
        "\n",
        " 1\n",
        "\n",
        "\n",
        "Example Explanation:\n",
        "\n",
        "Explanation 1:\n",
        "\n",
        " 4 occurs exactly once in Input 1.\n",
        "\n",
        " 1 occurs exactly once in Input 2."
      ],
      "metadata": {
        "id": "qddjjiyFVqjT"
      }
    },
    {
      "cell_type": "markdown",
      "source": [
        "# **Brute Force**"
      ],
      "metadata": {
        "id": "ul6hMVXfWNPD"
      }
    },
    {
      "cell_type": "code",
      "source": [
        "A = list(map(int,input().split()))\n",
        "N = len(A)\n",
        "for i in range(N):\n",
        "  count = A.count(A[i])\n",
        "  if count != 3:\n",
        "    print(A[i])\n",
        "    break"
      ],
      "metadata": {
        "id": "M5NodhF0WMhz"
      },
      "execution_count": null,
      "outputs": []
    },
    {
      "cell_type": "markdown",
      "source": [
        "# **Optimized Soultion**"
      ],
      "metadata": {
        "id": "l9kB_HCSa3FE"
      }
    },
    {
      "cell_type": "code",
      "source": [
        "A = list(map(int,input().split()))\n",
        "N = len(A)\n",
        "Ans = 0\n",
        "for bit in range(32):\n",
        "    count_of_sets = 0\n",
        "    for ele in range(N):\n",
        "        if A[ele] & (1 << bit):\n",
        "            # counting number elements that are set for that bit\n",
        "            count_of_sets += 1\n",
        "    if count_of_sets % 3:\n",
        "        Ans ^= (1 << bit)\n",
        "print(Ans)"
      ],
      "metadata": {
        "id": "KaTTevIhWeCR"
      },
      "execution_count": null,
      "outputs": []
    },
    {
      "cell_type": "markdown",
      "source": [
        "# **Q3. Single Number III**\n",
        "\n",
        "Problem Description:\n",
        "\n",
        "Given an array of positive integers A, two integers appear only once, and all the other integers appear twice.\n",
        "\n",
        "Find the two integers that appear only once.\n",
        "\n",
        "Note: Return the two numbers in ascending order.\n",
        "\n",
        "\n",
        "Problem Constraints:\n",
        "\n",
        "## 2 <= |A| <= 100000\n",
        "\n",
        "## 1 <= A[i] <= 109\n",
        "\n",
        "\n",
        "\n",
        "Input Format:\n",
        "\n",
        "The first input is an array of integers of size N.\n",
        "\n",
        "\n",
        "\n",
        "Output Format:\n",
        "\n",
        "Print an array of two integers that appear only once.\n",
        "\n",
        "\n",
        "\n",
        "Example Input:\n",
        "\n",
        "Input 1:\n",
        "\n",
        "A = [1, 2, 3, 1, 2, 4]\n",
        "\n",
        "Input 2:\n",
        "\n",
        "A = [1, 2]\n",
        "\n",
        "\n",
        "Example Output:\n",
        "\n",
        "Output 1:\n",
        "\n",
        "[3, 4]\n",
        "\n",
        "Output 2:\n",
        "\n",
        "[1, 2]\n",
        "\n",
        "\n",
        "Example Explanation:\n",
        "\n",
        "Explanation 1:\n",
        "\n",
        "3 and 4 appear only once.\n",
        "\n",
        "Explanation 2:\n",
        "\n",
        "1 and 2 appear only once."
      ],
      "metadata": {
        "id": "LmDGR9OsZBrs"
      }
    },
    {
      "cell_type": "markdown",
      "source": [
        "# **Brute Force**"
      ],
      "metadata": {
        "id": "lkxMUaOJbzRo"
      }
    },
    {
      "cell_type": "code",
      "source": [
        "A = list(map(int,input().split()))\n",
        "N = len(A)\n",
        "for i in range(N):\n",
        "  count = A.count(A[i])\n",
        "  if count != 2:\n",
        "    print(A[i],end = \" \")"
      ],
      "metadata": {
        "id": "HgmKEHVebmRN"
      },
      "execution_count": null,
      "outputs": []
    },
    {
      "cell_type": "markdown",
      "source": [
        "# **Optimized Soultion**\n"
      ],
      "metadata": {
        "id": "CHiolPj5btfE"
      }
    },
    {
      "cell_type": "code",
      "source": [
        "N = len(A)\n",
        "# Finding the xor of non repeating elements\n",
        "xor_of_elements = 0\n",
        "for ele in range(N):\n",
        "    xor_of_elements ^= A[ele]\n",
        "# Seperating all elements into two categories based on non repeating elements\n",
        "num1 = 0\n",
        "num2 = 0\n",
        "for bit in range(32):\n",
        "    if xor_of_elements & (1<<bit):\n",
        "        for ele in range(N):\n",
        "            if A[ele] & (1 << bit):\n",
        "                num1 ^= A[ele]\n",
        "            else:\n",
        "                num2 ^= A[ele]\n",
        "        break\n",
        "if num1 > num2:\n",
        "    print(num2 ,num1)\n",
        "else:\n",
        "    print(num1 ,num2)"
      ],
      "metadata": {
        "id": "-lk-PdcBb5Dg"
      },
      "execution_count": null,
      "outputs": []
    }
  ]
}