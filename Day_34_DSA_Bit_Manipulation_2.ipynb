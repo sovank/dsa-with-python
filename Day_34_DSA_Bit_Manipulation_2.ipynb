{
  "nbformat": 4,
  "nbformat_minor": 0,
  "metadata": {
    "colab": {
      "provenance": [],
      "authorship_tag": "ABX9TyPkchVSE+x0hf/SsaSX9WXf",
      "include_colab_link": true
    },
    "kernelspec": {
      "name": "python3",
      "display_name": "Python 3"
    },
    "language_info": {
      "name": "python"
    }
  },
  "cells": [
    {
      "cell_type": "markdown",
      "metadata": {
        "id": "view-in-github",
        "colab_type": "text"
      },
      "source": [
        "<a href=\"https://colab.research.google.com/github/Phanindra2009/dsa-with-python/blob/main/Day_34_DSA_Bit_Manipulation_2.ipynb\" target=\"_parent\"><img src=\"https://colab.research.google.com/assets/colab-badge.svg\" alt=\"Open In Colab\"/></a>"
      ]
    },
    {
      "cell_type": "markdown",
      "source": [
        "# **Q1. Single Number**\n",
        "Problem Description:\n",
        "\n",
        "Given an array of integers A, every element appears twice except for one. Find that integer that occurs once.\n",
        "\n",
        "**NOTE**: Your algorithm should have a linear runtime complexity. Could you implement it without using extra memory?\n",
        "\n",
        "\n",
        "\n",
        "Problem Constraints:\n",
        "\n",
        "## 1 <= |A| <= 2000000\n",
        "\n",
        "## 0 <= A[i] <= INTMAX\n",
        "\n",
        "\n",
        "\n",
        "Input Format:\n",
        "\n",
        "The first and only input of input contains an integer array A.\n",
        "\n",
        "\n",
        "\n",
        "Output Format:\n",
        "\n",
        "Print a single integer denoting the single element.\n",
        "\n",
        "\n",
        "\n",
        "Example Input:\n",
        "\n",
        "Input 1:\n",
        "\n",
        " A = [1, 2, 2, 3, 1]\n",
        "\n",
        "Input 2:\n",
        "\n",
        " A = [1, 2, 2]\n",
        "\n",
        "\n",
        "Example Output:\n",
        "\n",
        "Output 1:\n",
        "\n",
        " 3\n",
        "Output 2:\n",
        "\n",
        " 1\n",
        "\n",
        "\n",
        "Example Explanation:\n",
        "\n",
        "Explanation 1:\n",
        "\n",
        "3 occurs once.\n",
        "\n",
        "Explanation 2:\n",
        "\n",
        "1 occurs once."
      ],
      "metadata": {
        "id": "StBQukTUDrmR"
      }
    },
    {
      "cell_type": "markdown",
      "source": [
        "# **Brute Force**"
      ],
      "metadata": {
        "id": "XmYm9WWXE2Cx"
      }
    },
    {
      "cell_type": "code",
      "execution_count": null,
      "metadata": {
        "id": "Zo8HTimrDl68"
      },
      "outputs": [],
      "source": [
        "A = list(map(int,input().split()))\n",
        "N = len(A)\n",
        "for i in range(N):\n",
        "  count = A.count(A[i])\n",
        "  if count != 2:\n",
        "    print(A[i])\n",
        "    break"
      ]
    },
    {
      "cell_type": "markdown",
      "source": [
        "# **Optimized Soultion**"
      ],
      "metadata": {
        "id": "zozrqGYuKaxa"
      }
    },
    {
      "cell_type": "code",
      "source": [
        "A = list(map(int,input().split()))\n",
        "Ans = 0\n",
        "for i in A:\n",
        "  Ans ^= i\n",
        "print(Ans)"
      ],
      "metadata": {
        "id": "Y1Wkv8xpHDnQ"
      },
      "execution_count": null,
      "outputs": []
    },
    {
      "cell_type": "markdown",
      "source": [
        "# **Q2. Single Number II**\n",
        "Problem Description:\n",
        "\n",
        "Given an array of integers, every element appears thrice except for one, which occurs once.\n",
        "\n",
        "Find that element that does not appear thrice.\n",
        "\n",
        "NOTE: Your algorithm should have a linear runtime complexity.\n",
        "\n",
        "Could you implement it without using extra memory?\n",
        "\n",
        "\n",
        "\n",
        "\n",
        "Problem Constraints:\n",
        "\n",
        "## 2 <= A <= 5*10^6\n",
        "\n",
        "## 0 <= A <= INTMAX\n",
        "\n",
        "\n",
        "\n",
        "Input Format:\n",
        "\n",
        "First and only input of input contains an integer array A.\n",
        "\n",
        "\n",
        "\n",
        "Output Format:\n",
        "\n",
        "Print a single integer.\n",
        "\n",
        "\n",
        "\n",
        "Example Input:\n",
        "\n",
        "Input 1:\n",
        "\n",
        " A = [1, 2, 4, 3, 3, 2, 2, 3, 1, 1]\n",
        "\n",
        "Input 2:\n",
        "\n",
        " A = [0, 0, 0, 1]\n",
        "\n",
        "\n",
        "Example Output:\n",
        "\n",
        "Output 1:\n",
        "\n",
        " 4\n",
        "\n",
        "Output 2:\n",
        "\n",
        " 1\n",
        "\n",
        "\n",
        "Example Explanation:\n",
        "\n",
        "Explanation 1:\n",
        "\n",
        " 4 occurs exactly once in Input 1.\n",
        "\n",
        " 1 occurs exactly once in Input 2."
      ],
      "metadata": {
        "id": "qddjjiyFVqjT"
      }
    },
    {
      "cell_type": "markdown",
      "source": [
        "# **Brute Force**"
      ],
      "metadata": {
        "id": "ul6hMVXfWNPD"
      }
    },
    {
      "cell_type": "code",
      "source": [
        "A = list(map(int,input().split()))\n",
        "N = len(A)\n",
        "for i in range(N):\n",
        "  count = A.count(A[i])\n",
        "  if count != 3:\n",
        "    print(A[i])\n",
        "    break"
      ],
      "metadata": {
        "id": "M5NodhF0WMhz"
      },
      "execution_count": null,
      "outputs": []
    },
    {
      "cell_type": "markdown",
      "source": [
        "# **Optimized Soultion**"
      ],
      "metadata": {
        "id": "l9kB_HCSa3FE"
      }
    },
    {
      "cell_type": "code",
      "source": [
        "A = list(map(int,input().split()))\n",
        "N = len(A)\n",
        "Ans = 0\n",
        "for bit in range(32):\n",
        "    count_of_sets = 0\n",
        "    for ele in range(N):\n",
        "        if A[ele] & (1 << bit):\n",
        "            # counting number elements that are set for that bit\n",
        "            count_of_sets += 1\n",
        "    if count_of_sets % 3:\n",
        "        Ans ^= (1 << bit)\n",
        "print(Ans)"
      ],
      "metadata": {
        "id": "KaTTevIhWeCR"
      },
      "execution_count": null,
      "outputs": []
    },
    {
      "cell_type": "markdown",
      "source": [
        "# **Q3. Single Number III**\n",
        "\n",
        "Problem Description:\n",
        "\n",
        "Given an array of positive integers A, two integers appear only once, and all the other integers appear twice.\n",
        "\n",
        "Find the two integers that appear only once.\n",
        "\n",
        "Note: Return the two numbers in ascending order.\n",
        "\n",
        "\n",
        "Problem Constraints:\n",
        "\n",
        "## 2 <= |A| <= 100000\n",
        "\n",
        "## 1 <= A[i] <= 109\n",
        "\n",
        "\n",
        "\n",
        "Input Format:\n",
        "\n",
        "The first input is an array of integers of size N.\n",
        "\n",
        "\n",
        "\n",
        "Output Format:\n",
        "\n",
        "Print an array of two integers that appear only once.\n",
        "\n",
        "\n",
        "\n",
        "Example Input:\n",
        "\n",
        "Input 1:\n",
        "\n",
        "A = [1, 2, 3, 1, 2, 4]\n",
        "\n",
        "Input 2:\n",
        "\n",
        "A = [1, 2]\n",
        "\n",
        "\n",
        "Example Output:\n",
        "\n",
        "Output 1:\n",
        "\n",
        "[3, 4]\n",
        "\n",
        "Output 2:\n",
        "\n",
        "[1, 2]\n",
        "\n",
        "\n",
        "Example Explanation:\n",
        "\n",
        "Explanation 1:\n",
        "\n",
        "3 and 4 appear only once.\n",
        "\n",
        "Explanation 2:\n",
        "\n",
        "1 and 2 appear only once."
      ],
      "metadata": {
        "id": "LmDGR9OsZBrs"
      }
    },
    {
      "cell_type": "markdown",
      "source": [
        "# **Brute Force**"
      ],
      "metadata": {
        "id": "lkxMUaOJbzRo"
      }
    },
    {
      "cell_type": "code",
      "source": [
        "A = list(map(int,input().split()))\n",
        "N = len(A)\n",
        "for i in range(N):\n",
        "  count = A.count(A[i])\n",
        "  if count != 2:\n",
        "    print(A[i],end = \" \")"
      ],
      "metadata": {
        "id": "HgmKEHVebmRN"
      },
      "execution_count": null,
      "outputs": []
    },
    {
      "cell_type": "markdown",
      "source": [
        "# **Optimized Soultion**\n"
      ],
      "metadata": {
        "id": "CHiolPj5btfE"
      }
    },
    {
      "cell_type": "code",
      "source": [
        "N = len(A)\n",
        "# Finding the xor of non repeating elements\n",
        "xor_of_elements = 0\n",
        "for ele in range(N):\n",
        "    xor_of_elements ^= A[ele]\n",
        "# Seperating all elements into two categories based on non repeating elements\n",
        "num1 = 0\n",
        "num2 = 0\n",
        "for bit in range(32):\n",
        "    if xor_of_elements & (1<<bit):\n",
        "        for ele in range(N):\n",
        "            if A[ele] & (1 << bit):\n",
        "                num1 ^= A[ele]\n",
        "            else:\n",
        "                num2 ^= A[ele]\n",
        "        break\n",
        "if num1 > num2:\n",
        "    print(num2 ,num1)\n",
        "else:\n",
        "    print(num1 ,num2)"
      ],
      "metadata": {
        "id": "-lk-PdcBb5Dg"
      },
      "execution_count": null,
      "outputs": []
    },
    {
      "cell_type": "markdown",
      "source": [
        "# **Q4. Maximum AND Pair**\n",
        "\n",
        "Problem Description:\n",
        "\n",
        "Given an array A. For every pair of indices i and j (i != j), find the maximum A[i] & A[j].\n",
        "\n",
        "\n",
        "Problem Constraints:\n",
        "\n",
        "## 1 <= len(A) <= 105\n",
        "## 1 <= A[i] <= 109\n",
        "\n",
        "\n",
        "Input Format:\n",
        "\n",
        "The first input is an integer array A.\n",
        "\n",
        "\n",
        "Output Format\n",
        "Print a single integer that is the maximum A[i] & A[j].\n",
        "\n",
        "\n",
        "Example Input:\n",
        "\n",
        "Input 1:-\n",
        "\n",
        "A = [53, 39, 88]\n",
        "\n",
        "Input 2:-\n",
        "\n",
        "A = [38, 44, 84, 12]\n",
        "\n",
        "\n",
        "Example Output:\n",
        "\n",
        "Output 1:-\n",
        "\n",
        "37\n",
        "\n",
        "Output 2:-\n",
        "\n",
        "36\n",
        "\n",
        "\n",
        "Example Explanation:\n",
        "\n",
        "Explanation 1:-\n",
        "\n",
        "53 & 39 = 37\n",
        "\n",
        "39 & 88 = 0\n",
        "\n",
        "53 & 88 = 16\n",
        "\n",
        "Maximum among all these pairs is 37\n",
        "\n",
        "Explanation 2:-\n",
        "\n",
        "Maximum bitwise and among all pairs is (38, 44) = 36"
      ],
      "metadata": {
        "id": "hR9rbgmkIcK8"
      }
    },
    {
      "cell_type": "markdown",
      "source": [
        "# **BRUTE FORCE**\n",
        "\n",
        "We can find the maximum AND pair by finding the and of each pair in the array and max among them."
      ],
      "metadata": {
        "id": "xHgd2k2XLNL5"
      }
    },
    {
      "cell_type": "code",
      "source": [
        "A = list(map(int,input().split()))\n",
        "N = len(A)\n",
        "ans = 0\n",
        "for i in range(N):\n",
        "  for j in range(i+1,N):\n",
        "    current = A[i] & A[j]\n",
        "    ans = max(ans , current)\n",
        "print(ans)\n"
      ],
      "metadata": {
        "id": "gTzXj9UXJ1Xa"
      },
      "execution_count": null,
      "outputs": []
    },
    {
      "cell_type": "markdown",
      "source": [
        "# **Optimized Approach**"
      ],
      "metadata": {
        "id": "iKB_IKndLcDB"
      }
    },
    {
      "cell_type": "code",
      "source": [
        "A = list(map(int,input().split()))\n",
        "N = len(A)\n",
        "ans =  0\n",
        "for i in range(32,-1,-1):\n",
        "    count = 0\n",
        "    for j in range(N):\n",
        "        if A[j] & (1<<i):\n",
        "            count += 1\n",
        "\n",
        "    if count >=2:\n",
        "        pos = i\n",
        "        for j in range(N):\n",
        "            if A[j] & (1<<i) == 0:\n",
        "                A[j] = 0\n",
        "        ans ^= (1<<pos)\n",
        "\n",
        "\n",
        "print(ans)"
      ],
      "metadata": {
        "id": "824HD4XjKeBu"
      },
      "execution_count": null,
      "outputs": []
    },
    {
      "cell_type": "markdown",
      "source": [
        "# **Q5. Strange Equality**\n",
        "\n",
        "Problem Description:\n",
        "\n",
        "Given an integer A.\n",
        "Two numbers, X and Y, are defined as follows:\n",
        "\n",
        "X is the greatest number smaller than A such that the XOR sum of X and A is the same as the sum of X and A.\n",
        "Y is the smallest number greater than A, such that the XOR sum of Y and A is the same as the sum of Y and A.\n",
        "Find and return the XOR of X and Y.\n",
        "\n",
        "NOTE 1: XOR of X and Y is defined as X ^ Y where '^' is the BITWISE XOR operator.\n",
        "\n",
        "NOTE 2: Your code will be run against a maximum of 100000 Test Cases.\n",
        "\n",
        "\n",
        "\n",
        "Problem Constraints:\n",
        "\n",
        "## **1 <= A <= 109**\n",
        "\n",
        "\n",
        "\n",
        "Input Format:\n",
        "\n",
        "First and only argument is an integer A.\n",
        "\n",
        "\n",
        "\n",
        "Output Format:\n",
        "\n",
        "Return an integer denoting the XOR of X and Y.\n",
        "\n",
        "\n",
        "\n",
        "Example Input:\n",
        "\n",
        "A = 5\n",
        "\n",
        "\n",
        "Example Output:\n",
        "\n",
        "10\n",
        "\n",
        "\n",
        "Example Explanation:\n",
        "\n",
        "The value of X will be 2 and the value of Y will be 8. The XOR of 2 and 8 is 10."
      ],
      "metadata": {
        "id": "SR96RqW-bPIO"
      }
    },
    {
      "cell_type": "markdown",
      "source": [
        "# **BRUTE FORCE**\n",
        "To find the x value we will be looping 0 to A and find the max value that gives the same if we add both and xor the values. and same way to y alse here but we will break the loop after we finding the y value\n",
        "\n",
        "Then we will find xor of x and y....\n",
        "\n"
      ],
      "metadata": {
        "id": "f-NZZBmQcKDm"
      }
    },
    {
      "cell_type": "code",
      "source": [
        "A = int(input())\n",
        "x = 0\n",
        "for i in range(A):\n",
        "  if i ^ A == i + A:\n",
        "    x = max(x,i)\n",
        "y = 0\n",
        "i = A + 1\n",
        "while i > A:\n",
        "  if i ^ A == i + A:\n",
        "    y = i\n",
        "    break\n",
        "  i += 1\n",
        "print(x ^ y)"
      ],
      "metadata": {
        "id": "Ryv2G_Vhdvj-"
      },
      "execution_count": null,
      "outputs": []
    },
    {
      "cell_type": "markdown",
      "source": [
        "# **OPTIMIZED APPROACH**"
      ],
      "metadata": {
        "id": "bgA3Db6Rfery"
      }
    },
    {
      "cell_type": "code",
      "source": [
        "A = int(input())\n",
        "num1 = 0\n",
        "num2 = 0\n",
        "num = 0\n",
        "for i in range(32):\n",
        "    if A & (1<<i) == 0:\n",
        "        num = (1<<i)\n",
        "        if num < A:\n",
        "            num1 ^= (1<<i)\n",
        "        elif num > A:\n",
        "            num2 = (1<<i)\n",
        "            break\n",
        "\n",
        "print(num1 ^ num2)"
      ],
      "metadata": {
        "id": "ALeBDDpRedgu"
      },
      "execution_count": null,
      "outputs": []
    },
    {
      "cell_type": "markdown",
      "source": [
        "# **Q6. SUBARRAY OR**\n",
        "\n",
        "Problem Description:\n",
        "\n",
        "You are given an array of integers A of size N.\n",
        "\n",
        "The value of a subarray is defined as BITWISE OR of all elements in it.\n",
        "\n",
        "Return the sum of value of all subarrays of A % 109 + 7.\n",
        "\n",
        "\n",
        "\n",
        "Problem Constraints:\n",
        "\n",
        "## 1 <= N <= 10^5\n",
        "\n",
        "## 1 <= A[i] <= 10^8\n",
        "\n",
        "\n",
        "\n",
        "Input Format:\n",
        "\n",
        "The first argument given is the integer array A.\n",
        "\n",
        "\n",
        "\n",
        "Output Format:\n",
        "\n",
        "Return the sum of Value of all subarrays of A % 109 + 7.\n",
        "\n",
        "\n",
        "\n",
        "Example Input:\n",
        "\n",
        "Input 1:\n",
        "\n",
        " A = [1, 2, 3, 4, 5]\n",
        "\n",
        "Input 2:\n",
        "\n",
        " A = [7, 8, 9, 10]\n",
        "\n",
        "\n",
        "Example Output:\n",
        "\n",
        "Output 1:\n",
        "\n",
        " 71\n",
        "\n",
        "Output 2:\n",
        "\n",
        " 110\n",
        "\n",
        "\n",
        "Example Explanation:\n",
        "\n",
        "Explanation 1:\n",
        "\n",
        " Value([1]) = 1\n",
        "\n",
        " Value([1, 2]) = 3\n",
        "\n",
        " Value([1, 2, 3]) = 3\n",
        "\n",
        " Value([1, 2, 3, 4]) = 7\n",
        "\n",
        " Value([1, 2, 3, 4, 5]) = 7\n",
        "\n",
        " Value([2]) = 2\n",
        "\n",
        " Value([2, 3]) = 3\n",
        "\n",
        " Value([2, 3, 4]) = 7\n",
        "\n",
        " Value([2, 3, 4, 5]) = 7\n",
        "\n",
        " Value([3]) = 3\n",
        "\n",
        " Value([3, 4]) = 7\n",
        "\n",
        " Value([3, 4, 5]) = 7\n",
        "\n",
        " Value([4]) = 4\n",
        "\n",
        " Value([4, 5]) = 5\n",
        "\n",
        " Value([5]) = 5\n",
        "\n",
        " Sum of all these values = 71\n",
        "\n",
        "Explanation 2:\n",
        "\n",
        " Sum of value of all subarray is 110."
      ],
      "metadata": {
        "id": "c5hJfmaY8mup"
      }
    },
    {
      "cell_type": "markdown",
      "source": [
        "# **BRUTE FORCE**\n",
        "\n",
        "Find or of all subarrays and add them together to get the ans\n"
      ],
      "metadata": {
        "id": "UHu7AKWi-f_Q"
      }
    },
    {
      "cell_type": "code",
      "source": [
        "A = list(map(int,input().split()))\n",
        "N = len(A)\n",
        "ans = 0\n",
        "mod = 7 + 10**9\n",
        "for i in range(N):\n",
        "  current_or_subarray = 0\n",
        "  for j in range(i,N):\n",
        "    current_or_subarray |= A[j]\n",
        "    ans += current_or_subarray\n",
        "print(ans % mod)\n"
      ],
      "metadata": {
        "id": "YfgCHYHy84pq"
      },
      "execution_count": null,
      "outputs": []
    },
    {
      "cell_type": "markdown",
      "source": [
        "# **OPTIMIZED APPROACH**"
      ],
      "metadata": {
        "id": "4n4eLQ12-j_Y"
      }
    },
    {
      "cell_type": "code",
      "source": [
        "A = list(map(int,input().split()))\n",
        "N = len(A)\n",
        "Total_Subarrays_Of_A = (N * (N+1))//2\n",
        "Ans = 0\n",
        "mod = 7 + 10**9\n",
        "for i in range(32):\n",
        "    count_of_continuous_bits = 0\n",
        "    Total_Subarrays_i_set = Total_Subarrays_Of_A\n",
        "    for j in range(N):\n",
        "        if A[j] & (1<<i) == 0:\n",
        "            count_of_continuous_bits += 1\n",
        "        else:\n",
        "            Total_Subarrays_i_set -= ((count_of_continuous_bits * (count_of_continuous_bits + 1)) //2)\n",
        "            count_of_continuous_bits = 0\n",
        "        if j == N-1:\n",
        "            Total_Subarrays_i_set -= ((count_of_continuous_bits * (count_of_continuous_bits + 1)) //2)\n",
        "    Ans += Total_Subarrays_i_set * (1<<i)\n",
        "print(Ans % mod)"
      ],
      "metadata": {
        "id": "JvRPnKux-Tyw"
      },
      "execution_count": null,
      "outputs": []
    },
    {
      "cell_type": "markdown",
      "source": [
        "# **Q7. Min XOR value**\n",
        "\n",
        "Problem Description:\n",
        "\n",
        "Given an integer array A of N integers, find the pair of integers in the array which have minimum XOR value. Report the minimum XOR value.\n",
        "\n",
        "\n",
        "\n",
        "Problem Constraints:\n",
        "\n",
        "## 2 <= length of the array <= 10^5\n",
        "\n",
        "## 0 <= A[i] <= 10^9\n",
        "\n",
        "\n",
        "\n",
        "Input Format:\n",
        "\n",
        "First and only argument of input contains an integer array A.\n",
        "\n",
        "\n",
        "\n",
        "Output Format:\n",
        "\n",
        "Return a single integer denoting minimum xor value.\n",
        "\n",
        "\n",
        "\n",
        "Example Input:\n",
        "\n",
        "Input 1:\n",
        "\n",
        " A = [0, 2, 5, 7]\n",
        "\n",
        "Input 2:\n",
        "\n",
        " A = [0, 4, 7, 9]\n",
        "\n",
        "\n",
        "Example Output:\n",
        "\n",
        "Output 1:\n",
        "\n",
        " 2\n",
        "\n",
        "Output 2:\n",
        "\n",
        " 3\n",
        "\n",
        "\n",
        "Example Explanation:\n",
        "\n",
        "Explanation 1:\n",
        "\n",
        " 0 xor 2 = 2"
      ],
      "metadata": {
        "id": "rL4LuTnlAhCw"
      }
    },
    {
      "cell_type": "markdown",
      "source": [
        "# **BRUTE FORCE**\n",
        "\n",
        "Find the xor of ech pair and min of all the values the answer"
      ],
      "metadata": {
        "id": "aBQrQET2BB3w"
      }
    },
    {
      "cell_type": "code",
      "source": [
        "A = list(map(int,input().split()))\n",
        "N = len(A)\n",
        "ans = float(\"inf\")\n",
        "for i in range(N):\n",
        "\n",
        "  for j in range(i+1,N):\n",
        "    xor_of_pair = A[i]\n",
        "    xor_of_pair ^= A[j]\n",
        "    ans = min(xor_of_pair,ans)\n",
        "print(ans)"
      ],
      "metadata": {
        "id": "XzXmnBbVBpiv"
      },
      "execution_count": null,
      "outputs": []
    },
    {
      "cell_type": "markdown",
      "source": [
        "# **OPTIMZED APPROACH**"
      ],
      "metadata": {
        "id": "ex8f7t8NBcIX"
      }
    },
    {
      "cell_type": "code",
      "source": [
        "A = list(map(int,input().split()))\n",
        "A.sort()\n",
        "N = len(A)\n",
        "ans = float(\"inf\")\n",
        "for i in range(N-1):\n",
        "    ans = min(ans,A[i]^A[i+1])\n",
        "print(ans)"
      ],
      "metadata": {
        "id": "fjGFTx6UBF3C"
      },
      "execution_count": null,
      "outputs": []
    },
    {
      "cell_type": "markdown",
      "source": [
        "# **Q8. Sum of Xor of all Pairs**\n",
        "\n",
        "Problem Description:\n",
        "\n",
        "Given an array A of N integers. Find the sum of bitwise XOR all pairs of numbers in the array.\n",
        "\n",
        "Since the answer can be large, return the remainder after the dividing the answer by 109+7.\n",
        "\n",
        "\n",
        "\n",
        "Problem Constraints:\n",
        "\n",
        "### 1 <= N <= 10^5\n",
        "\n",
        "### 1 <= A[i] < 10^9\n",
        "\n",
        "\n",
        "\n",
        "Input Format:\n",
        "\n",
        "Only argument A is an array of integers\n",
        "\n",
        "\n",
        "\n",
        "Output Format:\n",
        "\n",
        "Return an integer denoting the sum of xor of all pairs of number in the array.\n",
        "\n",
        "\n",
        "\n",
        "Example Input:\n",
        "\n",
        "Input 1:\n",
        "\n",
        "A = [1, 2, 3]\n",
        "\n",
        "Input 2:\n",
        "\n",
        "A = [3, 4, 2]\n",
        "\n",
        "\n",
        "Example Output:\n",
        "\n",
        "Output 1:\n",
        "\n",
        "6\n",
        "\n",
        "Output 2:\n",
        "\n",
        "14\n",
        "\n",
        "\n",
        "Example Explanation:\n",
        "\n",
        "For Input 1:\n",
        "\n",
        "Pair    Xor\n",
        "\n",
        "{1, 2}  3\n",
        "\n",
        "{1, 3}  2\n",
        "\n",
        "{2, 3}  1\n",
        "\n",
        "Sum of xor of all pairs = 3 + 2 + 1 = 6.\n",
        "\n",
        "For Input 2:\n",
        "\n",
        "Pair    Xor\n",
        "\n",
        "{3, 4}  7\n",
        "\n",
        "{3, 2}  1\n",
        "\n",
        "{4, 2}  6\n",
        "\n",
        "Sum of xor of all pairs = 7 + 1 + 6 = 14."
      ],
      "metadata": {
        "id": "bo50PV9xHMSX"
      }
    },
    {
      "cell_type": "markdown",
      "source": [
        "# **BRUTE FORCE**\n",
        "\n",
        "Find the xor of all elents and them together"
      ],
      "metadata": {
        "id": "1RLv5VgZHw2X"
      }
    },
    {
      "cell_type": "code",
      "source": [
        "A = list(map(int,input().split()))\n",
        "N = len(A)\n",
        "ans = 0\n",
        "for i in range(N):\n",
        "\n",
        "  for j in range(i+1,N):\n",
        "    xor_of_pair = A[i]\n",
        "    xor_of_pair ^= A[j]\n",
        "    ans += xor_of_pair\n",
        "print(ans)"
      ],
      "metadata": {
        "id": "F-o6aHjIH99J"
      },
      "execution_count": null,
      "outputs": []
    },
    {
      "cell_type": "markdown",
      "source": [
        "# **OPTIMIZED APPROACH**"
      ],
      "metadata": {
        "id": "7I66SKmBIeRQ"
      }
    },
    {
      "cell_type": "code",
      "source": [
        "A = list(map(int,input().split()))\n",
        "N = len(A)\n",
        "ans = 0\n",
        "mod = 7 + 10**9\n",
        "for i in range(32):\n",
        "    count_set = 0\n",
        "    for j in range(N):\n",
        "        if A[j] & ( 1 << i):\n",
        "            count_set += 1\n",
        "    ans += (1 << i) * (count_set) * (N - count_set)\n",
        "print(ans % mod)"
      ],
      "metadata": {
        "id": "o2OIRposInGO"
      },
      "execution_count": null,
      "outputs": []
    },
    {
      "cell_type": "markdown",
      "source": [
        "# **Q9. Find Two Missing Numbers**\n",
        "\n",
        "Problem Description:\n",
        "\n",
        "Given an array A of length N where all the elements are distinct and are in the range [1, N+2].\n",
        "\n",
        "Two numbers from the range [1, N+2] are missing from the array A. Find the two missing numbers.\n",
        "\n",
        "\n",
        "\n",
        "Problem Constraints:\n",
        "\n",
        "1 <= N <= 105\n",
        "\n",
        "1 <= A[i] <= N+2\n",
        "\n",
        "The elements of array A are distinct\n",
        "\n",
        "\n",
        "\n",
        "Input Format:\n",
        "\n",
        "Only argument A is an array of integers\n",
        "\n",
        "\n",
        "\n",
        "Output Format:\n",
        "\n",
        "Return a sorted array of size 2 denoting the missing elements.\n",
        "\n",
        "\n",
        "\n",
        "Example Input:\n",
        "\n",
        "Input 1:\n",
        "\n",
        "A = [3, 2, 4]\n",
        "\n",
        "Input 2:\n",
        "\n",
        "A = [5, 1, 3, 6]\n",
        "\n",
        "\n",
        "Example Output:\n",
        "\n",
        "Output 1:\n",
        "\n",
        "[1, 5]\n",
        "\n",
        "Output 2:\n",
        "\n",
        "[2, 4]\n",
        "\n",
        "\n",
        "Example Explanation:\n",
        "\n",
        "For Input 1:\n",
        "\n",
        "The missing numbers are 1 and 5.\n",
        "\n",
        "For Input 2:\n",
        "\n",
        "The missing numbers are 2 and 4."
      ],
      "metadata": {
        "id": "o_NbIQxUM4p9"
      }
    },
    {
      "cell_type": "markdown",
      "source": [
        "# **WITHOUT BIT MANIPULATION**\n"
      ],
      "metadata": {
        "id": "MXnK_eicNRCA"
      }
    },
    {
      "cell_type": "code",
      "source": [
        "A = list(map(int,input().split()))\n",
        "N = len\n",
        "Ans = []\n",
        "for i in range(1,N+3):\n",
        "  if i not in A:\n",
        "      Ans.append(i)\n",
        "print(Ans)"
      ],
      "metadata": {
        "id": "fOT6OKudKTpf"
      },
      "execution_count": null,
      "outputs": []
    },
    {
      "cell_type": "markdown",
      "source": [
        "# **WITH BITMANIPULATION**"
      ],
      "metadata": {
        "id": "qx0m7je8OPTo"
      }
    },
    {
      "cell_type": "code",
      "source": [
        "A = list(map(int,input().split()))\n",
        "N = len(A)\n",
        "B = [i for i in range(1,N+3)]\n",
        "A = A + B\n",
        "N = len(A)\n",
        "xor_allelements = 0\n",
        "for i in range(N):\n",
        "    xor_allelements ^= A[i]\n",
        "num1 = 0\n",
        "for i in range(32):\n",
        "    if xor_allelements & (1 <<i):\n",
        "\n",
        "        for j in A:\n",
        "            if j & (1 << i):\n",
        "                num1 ^= j\n",
        "        break\n",
        "num2 = num1 ^ xor_allelements\n",
        "print(Ans)"
      ],
      "metadata": {
        "id": "uuRbfjvmOGCF"
      },
      "execution_count": null,
      "outputs": []
    }
  ]
}