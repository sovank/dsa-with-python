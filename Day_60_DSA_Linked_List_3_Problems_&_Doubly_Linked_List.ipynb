{
  "nbformat": 4,
  "nbformat_minor": 0,
  "metadata": {
    "colab": {
      "provenance": [],
      "authorship_tag": "ABX9TyPVssxKbJPwaXbLq0bE19pw",
      "include_colab_link": true
    },
    "kernelspec": {
      "name": "python3",
      "display_name": "Python 3"
    },
    "language_info": {
      "name": "python"
    }
  },
  "cells": [
    {
      "cell_type": "markdown",
      "metadata": {
        "id": "view-in-github",
        "colab_type": "text"
      },
      "source": [
        "<a href=\"https://colab.research.google.com/github/sovank/dsa-with-python/blob/main/Day_60_DSA_Linked_List_3_Problems_%26_Doubly_Linked_List.ipynb\" target=\"_parent\"><img src=\"https://colab.research.google.com/assets/colab-badge.svg\" alt=\"Open In Colab\"/></a>"
      ]
    },
    {
      "cell_type": "code",
      "execution_count": 4,
      "metadata": {
        "colab": {
          "base_uri": "https://localhost:8080/"
        },
        "id": "2W5xkg-Dimtr",
        "outputId": "b400d9e7-791c-4ee6-a55b-ccccdb9e0887"
      },
      "outputs": [
        {
          "output_type": "stream",
          "name": "stdout",
          "text": [
            "Original list:\n",
            "Node 1 with random 3\n",
            "Node 2 with random 1\n",
            "Node 3 with random 2\n",
            "Copied list:\n",
            "Node 1 with random 3\n",
            "Node 2 with random 1\n",
            "Node 3 with random 2\n"
          ]
        }
      ],
      "source": [
        "# Definition for singly-linked list with a random pointer.\n",
        "class RandomListNode:\n",
        "    def __init__(self, x):\n",
        "        self.label = x\n",
        "        self.next = None\n",
        "        self.random = None\n",
        "\n",
        "class Solution:\n",
        "    def copyRandomList(self, head):\n",
        "        if not head:\n",
        "            return None\n",
        "\n",
        "        # Step 1: Create a dictionary to map original nodes to new nodes\n",
        "        mapping = {}\n",
        "\n",
        "        # Step 2: Create all new nodes and store them in the dictionary\n",
        "        current = head\n",
        "        while current:\n",
        "            mapping[current] = RandomListNode(current.label) #key: old node ---> value: new node with same value\n",
        "            current = current.next\n",
        "\n",
        "        # Step 3: Set the next and random pointers for the new nodes\n",
        "        current = head\n",
        "        while current:\n",
        "            if current.next:\n",
        "                mapping[current].next = mapping[current.next] # copy -> copy ka next mein point karega\n",
        "            if current.random:\n",
        "                mapping[current].random = mapping[current.random] # copy -> copy ka random mein point karega\n",
        "            current = current.next\n",
        "\n",
        "        # Return the head of the new copied list\n",
        "        return mapping[head]\n",
        "\n",
        "# Create an example linked list\n",
        "node1 = RandomListNode(1)\n",
        "node2 = RandomListNode(2)\n",
        "node3 = RandomListNode(3)\n",
        "\n",
        "node1.next = node2\n",
        "node2.next = node3\n",
        "\n",
        "node1.random = node3\n",
        "node2.random = node1\n",
        "node3.random = node2\n",
        "\n",
        "# Make a copy of the list\n",
        "solution = Solution()\n",
        "copied_list = solution.copyRandomList(node1)\n",
        "\n",
        "# Print the copied list to verify\n",
        "def print_list(head):\n",
        "    while head:\n",
        "        random_label = head.random.label if head.random else None\n",
        "        print(f'Node {head.label} with random {random_label}')\n",
        "        head = head.next\n",
        "\n",
        "print(\"Original list:\")\n",
        "print_list(node1)\n",
        "\n",
        "print(\"Copied list:\")\n",
        "print_list(copied_list)"
      ]
    },
    {
      "cell_type": "code",
      "source": [],
      "metadata": {
        "id": "FUc8qK5Uix-b"
      },
      "execution_count": null,
      "outputs": []
    }
  ]
}