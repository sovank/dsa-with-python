{
  "nbformat": 4,
  "nbformat_minor": 0,
  "metadata": {
    "colab": {
      "provenance": [],
      "authorship_tag": "ABX9TyMXtXNbgShmAg1FcX4VfRA0",
      "include_colab_link": true
    },
    "kernelspec": {
      "name": "python3",
      "display_name": "Python 3"
    },
    "language_info": {
      "name": "python"
    }
  },
  "cells": [
    {
      "cell_type": "markdown",
      "metadata": {
        "id": "view-in-github",
        "colab_type": "text"
      },
      "source": [
        "<a href=\"https://colab.research.google.com/github/sovank/dsa-with-python/blob/main/Day_47_OOPS_1(Python).ipynb\" target=\"_parent\"><img src=\"https://colab.research.google.com/assets/colab-badge.svg\" alt=\"Open In Colab\"/></a>"
      ]
    },
    {
      "cell_type": "markdown",
      "source": [
        "# **Encapsulation**\n",
        "Bundling of data (attributes) and methods (functions) that operate on the data into a single unit called a class. It hides the internal state of an object from the outside world and only exposes selected operations through public methods."
      ],
      "metadata": {
        "id": "VMc5iqv28jVD"
      }
    },
    {
      "cell_type": "code",
      "source": [
        "class Car:\n",
        "    def __init__(self, make, model, year):\n",
        "        self.make = make         # Public attribute\n",
        "        self.model = model       # Public attribute\n",
        "        self.year = year         # Public attribute\n",
        "        self.__odometer = 0     # Private attribute\n",
        "\n",
        "    def drive(self, miles):\n",
        "        \"\"\"Simulate driving and increment odometer.\"\"\"\n",
        "        self.__odometer += miles\n",
        "\n",
        "    def get_odometer_reading(self):\n",
        "        \"\"\"Get current odometer reading.\"\"\"\n",
        "        return self.__odometer\n",
        "\n",
        "# Creating an instance of the Car class\n",
        "my_car = Car(\"Toyota\", \"Camry\", 2022)\n",
        "\n",
        "# Accessing public attributes directly\n",
        "print(f\"My car is a {my_car.year} {my_car.make} {my_car.model}\")\n",
        "\n",
        "# Accessing private attribute through public method\n",
        "my_car.drive(100)\n",
        "print(f\"Odometer reading: {my_car.get_odometer_reading()} miles\")\n"
      ],
      "metadata": {
        "colab": {
          "base_uri": "https://localhost:8080/"
        },
        "id": "1K5Sy_Ku8Meg",
        "outputId": "a1182a5a-9527-47ee-da95-06309ccf6a10"
      },
      "execution_count": 4,
      "outputs": [
        {
          "output_type": "stream",
          "name": "stdout",
          "text": [
            "My car is a 2022 Toyota Camry\n",
            "Odometer reading: 100 miles\n"
          ]
        }
      ]
    },
    {
      "cell_type": "markdown",
      "source": [
        "**Explanation**:\n",
        "\n",
        "Encapsulation: The Car class encapsulates the attributes (make, model, year, and __odometer) and methods (drive() and get_odometer_reading()) into a single unit.\n",
        "Private Attribute: __odometer is a private attribute accessed only through the get_odometer_reading() method, demonstrating data hiding and encapsulation."
      ],
      "metadata": {
        "id": "iUZHFFSh80bK"
      }
    },
    {
      "cell_type": "markdown",
      "source": [
        "_______________________________________________________________________________________________________________________________________________________________________________________________________________________________________________________________________________________________________________________________"
      ],
      "metadata": {
        "id": "yerNlQij84KR"
      }
    },
    {
      "cell_type": "markdown",
      "source": [
        "# **Abstraction**\n",
        "\n",
        "Abstraction focuses on hiding the complex implementation details and exposing only the essential features of an object. It allows you to create a blueprint or interface that hides the internal workings of a class and emphasizes what an object does instead of how it does it."
      ],
      "metadata": {
        "id": "4HFSaKSs9A68"
      }
    },
    {
      "cell_type": "code",
      "source": [
        "from abc import ABC, abstractmethod\n",
        "\n",
        "# Abstract class (cannot be instantiated directly)\n",
        "class Shape(ABC):\n",
        "    @abstractmethod\n",
        "    def calculate_area(self):\n",
        "        pass\n",
        "\n",
        "# Concrete subclass implementing the abstract method\n",
        "class Circle(Shape):\n",
        "    def __init__(self, radius):\n",
        "        self.radius = radius\n",
        "\n",
        "    def calculate_area(self):\n",
        "        return 3.14 * self.radius * self.radius\n",
        "\n",
        "# Creating an instance of the Circle class\n",
        "circle = Circle(5)\n",
        "print(f\"Area of the circle with radius {circle.radius} is: {circle.calculate_area()}\")\n"
      ],
      "metadata": {
        "colab": {
          "base_uri": "https://localhost:8080/"
        },
        "id": "lxO9noLN8vL8",
        "outputId": "33f3a8dd-4295-4952-d3ea-022fa08ab36b"
      },
      "execution_count": 5,
      "outputs": [
        {
          "output_type": "stream",
          "name": "stdout",
          "text": [
            "Area of the circle with radius 5 is: 78.5\n"
          ]
        }
      ]
    },
    {
      "cell_type": "markdown",
      "source": [
        "**Explanation**:\n",
        "\n",
        "Abstraction: The Shape class serves as an abstract base class with an abstract method calculate_area(), which the Circle subclass implements.\n",
        "Abstract Method: calculate_area() defines an abstraction by providing a common interface for calculating the area, hiding the specific implementation details of each shape."
      ],
      "metadata": {
        "id": "_3CuWS-09Mpm"
      }
    },
    {
      "cell_type": "markdown",
      "source": [
        "# **Polymorphism**\n",
        "\n",
        "refers to the ability of different objects to respond to the same method or function call in different ways."
      ],
      "metadata": {
        "id": "FGOETb_qCCbu"
      }
    },
    {
      "cell_type": "markdown",
      "source": [
        "**Types of Polymorphism in Python:**\n",
        "\n",
        "\n",
        "1. **Method Overriding** (Runtime Polymorphism):"
      ],
      "metadata": {
        "id": "tXAFX8R7CSBh"
      }
    },
    {
      "cell_type": "code",
      "source": [
        "class Animal:\n",
        "    def sound(self):\n",
        "        print(\"Some generic sound\")\n",
        "\n",
        "class Dog(Animal):\n",
        "    def sound(self):\n",
        "        print(\"Bark\")\n",
        "\n",
        "class Cat(Animal):\n",
        "    def sound(self):\n",
        "        print(\"Meow\")\n",
        "\n",
        "# Polymorphic behavior\n",
        "animals = [Dog(), Cat()]\n",
        "for animal in animals:\n",
        "    animal.sound()  # Output: Bark, Meow\n"
      ],
      "metadata": {
        "colab": {
          "base_uri": "https://localhost:8080/"
        },
        "id": "eHrWcY3WCM46",
        "outputId": "0b87b944-d1eb-4ed4-82cc-c25fe2c7e33f"
      },
      "execution_count": 12,
      "outputs": [
        {
          "output_type": "stream",
          "name": "stdout",
          "text": [
            "Bark\n",
            "Meow\n"
          ]
        }
      ]
    },
    {
      "cell_type": "markdown",
      "source": [
        "2. **Operator Overloading**"
      ],
      "metadata": {
        "id": "rEoxE_coC6bI"
      }
    },
    {
      "cell_type": "code",
      "source": [
        "class Vector:\n",
        "    def __init__(self, x, y):\n",
        "        self.x = x\n",
        "        self.y = y\n",
        "\n",
        "    def __add__(self, other):\n",
        "        return Vector(self.x + other.x, self.y + other.y)\n",
        "\n",
        "v1 = Vector(2, 3)\n",
        "v2 = Vector(5, 7)\n",
        "v3 = v1 + v2  # Calls v1.__add__(v2)\n",
        "print(f\"Vector addition: ({v3.x}, {v3.y})\")  # Output: Vector addition: (7, 10)\n"
      ],
      "metadata": {
        "colab": {
          "base_uri": "https://localhost:8080/"
        },
        "id": "NLku4aXmCwfA",
        "outputId": "e7ebd89f-a7b8-4f85-c5c6-b1fd37f662be"
      },
      "execution_count": 13,
      "outputs": [
        {
          "output_type": "stream",
          "name": "stdout",
          "text": [
            "Vector addition: (7, 10)\n"
          ]
        }
      ]
    },
    {
      "cell_type": "markdown",
      "source": [
        "3. **Method Overloading** (Compile-time Polymorphism):\n",
        "  *   Python does not natively support method overloading like some statically-typed languages (e.g., Java).\n",
        "  *   Method overloading in Python is achieved through default arguments or variable-length arguments (*args, **kwargs).\n",
        "\n"
      ],
      "metadata": {
        "id": "HSgMK_9oDSVi"
      }
    },
    {
      "cell_type": "code",
      "source": [
        "class MathOperations:\n",
        "    def add(self, a, b):\n",
        "        return a + b\n",
        "\n",
        "    def add(self, a, b, c):\n",
        "        return a + b + c\n",
        "\n",
        "math = MathOperations()\n",
        "print(math.add(2, 3))      # TypeError: add() missing 1 required positional argument: 'c'\n",
        "print(math.add(2, 3, 4))   # Output: 9\n"
      ],
      "metadata": {
        "colab": {
          "base_uri": "https://localhost:8080/",
          "height": 193
        },
        "id": "eR-8Iu04DLmT",
        "outputId": "a524f44b-5c34-4eae-e216-d14cb122b337"
      },
      "execution_count": 14,
      "outputs": [
        {
          "output_type": "error",
          "ename": "TypeError",
          "evalue": "MathOperations.add() missing 1 required positional argument: 'c'",
          "traceback": [
            "\u001b[0;31m---------------------------------------------------------------------------\u001b[0m",
            "\u001b[0;31mTypeError\u001b[0m                                 Traceback (most recent call last)",
            "\u001b[0;32m<ipython-input-14-e0d1017f09ea>\u001b[0m in \u001b[0;36m<cell line: 9>\u001b[0;34m()\u001b[0m\n\u001b[1;32m      7\u001b[0m \u001b[0;34m\u001b[0m\u001b[0m\n\u001b[1;32m      8\u001b[0m \u001b[0mmath\u001b[0m \u001b[0;34m=\u001b[0m \u001b[0mMathOperations\u001b[0m\u001b[0;34m(\u001b[0m\u001b[0;34m)\u001b[0m\u001b[0;34m\u001b[0m\u001b[0;34m\u001b[0m\u001b[0m\n\u001b[0;32m----> 9\u001b[0;31m \u001b[0mprint\u001b[0m\u001b[0;34m(\u001b[0m\u001b[0mmath\u001b[0m\u001b[0;34m.\u001b[0m\u001b[0madd\u001b[0m\u001b[0;34m(\u001b[0m\u001b[0;36m2\u001b[0m\u001b[0;34m,\u001b[0m \u001b[0;36m3\u001b[0m\u001b[0;34m)\u001b[0m\u001b[0;34m)\u001b[0m      \u001b[0;31m# TypeError: add() missing 1 required positional argument: 'c'\u001b[0m\u001b[0;34m\u001b[0m\u001b[0;34m\u001b[0m\u001b[0m\n\u001b[0m\u001b[1;32m     10\u001b[0m \u001b[0mprint\u001b[0m\u001b[0;34m(\u001b[0m\u001b[0mmath\u001b[0m\u001b[0;34m.\u001b[0m\u001b[0madd\u001b[0m\u001b[0;34m(\u001b[0m\u001b[0;36m2\u001b[0m\u001b[0;34m,\u001b[0m \u001b[0;36m3\u001b[0m\u001b[0;34m,\u001b[0m \u001b[0;36m4\u001b[0m\u001b[0;34m)\u001b[0m\u001b[0;34m)\u001b[0m   \u001b[0;31m# Output: 9\u001b[0m\u001b[0;34m\u001b[0m\u001b[0;34m\u001b[0m\u001b[0m\n",
            "\u001b[0;31mTypeError\u001b[0m: MathOperations.add() missing 1 required positional argument: 'c'"
          ]
        }
      ]
    },
    {
      "cell_type": "markdown",
      "source": [
        "In this example, the second definition of add() overloads the first one, but **Python only considers the last defined method**."
      ],
      "metadata": {
        "id": "5ikXv7NIDxD4"
      }
    },
    {
      "cell_type": "markdown",
      "source": [
        "__________________________________________________________________________________________________________________________________________________________________"
      ],
      "metadata": {
        "id": "DJtjn5ZEESd_"
      }
    },
    {
      "cell_type": "markdown",
      "source": [
        "# **Inheritance**"
      ],
      "metadata": {
        "id": "VhY3DrunEU6U"
      }
    },
    {
      "cell_type": "markdown",
      "source": [
        "Allows one class (the child or subclass) to inherit the properties and methods of another class (the parent or superclass)"
      ],
      "metadata": {
        "id": "DGJPMdFAEfTI"
      }
    },
    {
      "cell_type": "code",
      "source": [
        "# Parent class (superclass)\n",
        "class Animal:\n",
        "    def __init__(self, name):\n",
        "        self.name = name\n",
        "\n",
        "    def sound(self):\n",
        "        pass  # Abstract method, to be overridden by subclasses\n",
        "\n",
        "# Child classes (subclasses) inheriting from Animal\n",
        "class Dog(Animal):\n",
        "    def sound(self):\n",
        "        return \"Bark\"\n",
        "\n",
        "class Cat(Animal):\n",
        "    def sound(self):\n",
        "        return \"Meow\"\n",
        "\n",
        "# Creating instances of the subclasses\n",
        "dog = Dog(\"Buddy\")\n",
        "cat = Cat(\"Whiskers\")\n",
        "\n",
        "# Using inherited methods\n",
        "print(f\"{dog.name} says {dog.sound()}\")  # Output: Buddy says Bark\n",
        "print(f\"{cat.name} says {cat.sound()}\")  # Output: Whiskers says Meow"
      ],
      "metadata": {
        "colab": {
          "base_uri": "https://localhost:8080/"
        },
        "id": "KrK9WtOMD_XO",
        "outputId": "0e066cdf-3cab-4528-e699-fbeab9d3da7f"
      },
      "execution_count": 16,
      "outputs": [
        {
          "output_type": "stream",
          "name": "stdout",
          "text": [
            "Buddy says Bark\n",
            "Whiskers says Meow\n"
          ]
        }
      ]
    },
    {
      "cell_type": "code",
      "source": [
        "for i in range(5):\n",
        "  print(i) # 5 times\n",
        "\n",
        "for j in range(6):\n",
        "  print(j) #5 times\n",
        "\n",
        "  #10 times\n",
        "\n",
        "# T.C ~ O(2N) ~ N"
      ],
      "metadata": {
        "colab": {
          "base_uri": "https://localhost:8080/"
        },
        "id": "UOMQkaMBxoih",
        "outputId": "10f688c6-d40f-4e0c-a50c-a9ff726cfe20"
      },
      "execution_count": 2,
      "outputs": [
        {
          "output_type": "stream",
          "name": "stdout",
          "text": [
            "0\n",
            "1\n",
            "2\n",
            "3\n",
            "4\n",
            "0\n",
            "1\n",
            "2\n",
            "3\n",
            "4\n"
          ]
        }
      ]
    },
    {
      "cell_type": "code",
      "source": [
        "arr = [1, 32, 3, 4, 5]\n",
        "N = len(arr)\n",
        "for i in range(0, N, 2):\n",
        "  print(arr[i])"
      ],
      "metadata": {
        "colab": {
          "base_uri": "https://localhost:8080/"
        },
        "id": "M6nON9iGx8F6",
        "outputId": "55ab4573-e705-444b-bf46-63a8d7fac5ee"
      },
      "execution_count": 5,
      "outputs": [
        {
          "output_type": "stream",
          "name": "stdout",
          "text": [
            "1\n",
            "3\n",
            "5\n"
          ]
        }
      ]
    },
    {
      "cell_type": "code",
      "source": [
        "1 2 3 4  ----> initial array\n",
        "4 1 2 3\n",
        "3 4 1 2  B=2 6 10 %\n",
        "2 3 4 1\n",
        "1 2 3 4  B=4 length =4 B=4\n",
        "\n",
        "\n",
        " 1 2 3 --> B=3\n",
        "\n",
        " 3 1 2 --> 1 4%3 7%3 10%3\n",
        " 2 3 1 --> 2 5%3 8%3\n",
        " 1 2 3 --> 3 6%3 9%3"
      ],
      "metadata": {
        "id": "btjGesPFzsTC"
      },
      "execution_count": null,
      "outputs": []
    },
    {
      "cell_type": "code",
      "source": [
        "# 1 2 3 4 ---> reverse the whole array\n",
        "# 4 3 2 1\n",
        "\n",
        "# 2nd step is to rev the array from index 0 to B-1\n",
        "# 3 4 2 1\n",
        "\n",
        "# 3rd step is to rev the array from index B to last element\n",
        "# 3 4 1 2"
      ],
      "metadata": {
        "colab": {
          "base_uri": "https://localhost:8080/"
        },
        "id": "dSHuoPJg3zU4",
        "outputId": "52a7de41-c6ee-48b5-ccb4-778d2d4c97c2"
      },
      "execution_count": 6,
      "outputs": [
        {
          "output_type": "execute_result",
          "data": {
            "text/plain": [
              "2"
            ]
          },
          "metadata": {},
          "execution_count": 6
        }
      ]
    },
    {
      "cell_type": "code",
      "source": [
        "#A = [2, 5, 6]\n",
        "#B = 1\n",
        "\n",
        "# 6 5 2\n",
        "# 6 5 2\n",
        "# 6 2 5"
      ],
      "metadata": {
        "id": "Cf5jSEIr31Pd"
      },
      "execution_count": null,
      "outputs": []
    },
    {
      "cell_type": "code",
      "source": [
        "A = [1, 2, 3, 4, 5]\n",
        "# pfsum 1 1+2=3 3+3=6 6+4=10 10+5=15\n",
        "\n",
        "A =     [10, 2,  15, 10, 8]\n",
        "#runs = [10, 12, 27, 37, 45]\n",
        "\n",
        "pfsum[0] = A[0]\n",
        "for i in range(1, len(A)):\n",
        "  pfsum[i] = pfsum[i-1] + A[i]\n",
        "\n",
        "print(pfsum)"
      ],
      "metadata": {
        "colab": {
          "base_uri": "https://localhost:8080/"
        },
        "id": "Z_ydHnlI7Pl0",
        "outputId": "9bfea1a2-93d4-4697-f7fe-9844af22963e"
      },
      "execution_count": 13,
      "outputs": [
        {
          "output_type": "stream",
          "name": "stdout",
          "text": [
            "[10, 12, 27, 37, 45]\n"
          ]
        }
      ]
    },
    {
      "cell_type": "code",
      "source": [
        "arr = []\n",
        "\n",
        "print(arr)\n",
        "\n",
        "arr.append(\"sovan\")\n",
        "print(arr)"
      ],
      "metadata": {
        "colab": {
          "base_uri": "https://localhost:8080/"
        },
        "id": "_9LvELel7TEi",
        "outputId": "ba1c2af2-831d-42e4-a85b-4aa56fb28b25"
      },
      "execution_count": 15,
      "outputs": [
        {
          "output_type": "stream",
          "name": "stdout",
          "text": [
            "[]\n",
            "['sovan']\n"
          ]
        }
      ]
    },
    {
      "cell_type": "code",
      "source": [
        "A = [1, 12, 10, 3, 14, 10, 5]  # [1, 3, 5]\n",
        "B = 8\n",
        "windowSize = 0\n",
        "for i in range(len(A)):\n",
        "  if A[i] <= B:\n",
        "    windowSize +=1\n",
        "\n",
        "windowSize\n",
        "\n"
      ],
      "metadata": {
        "colab": {
          "base_uri": "https://localhost:8080/"
        },
        "id": "VX1Mp5Pz_KOK",
        "outputId": "2e5fa98a-abb1-4a5c-963b-7fb521723214"
      },
      "execution_count": 16,
      "outputs": [
        {
          "output_type": "execute_result",
          "data": {
            "text/plain": [
              "3"
            ]
          },
          "metadata": {},
          "execution_count": 16
        }
      ]
    },
    {
      "cell_type": "code",
      "source": [
        "A = [5, 17, 100, 11]\n",
        "B = 20\n"
      ],
      "metadata": {
        "id": "sR2QUv7ZBVrk"
      },
      "execution_count": null,
      "outputs": []
    }
  ]
}