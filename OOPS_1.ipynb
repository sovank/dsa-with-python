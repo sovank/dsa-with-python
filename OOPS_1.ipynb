{
  "nbformat": 4,
  "nbformat_minor": 0,
  "metadata": {
    "colab": {
      "provenance": [],
      "authorship_tag": "ABX9TyMhryiM/tIB/54leaQu4KNM",
      "include_colab_link": true
    },
    "kernelspec": {
      "name": "python3",
      "display_name": "Python 3"
    },
    "language_info": {
      "name": "python"
    }
  },
  "cells": [
    {
      "cell_type": "markdown",
      "metadata": {
        "id": "view-in-github",
        "colab_type": "text"
      },
      "source": [
        "<a href=\"https://colab.research.google.com/github/sovank/dsa-with-python/blob/main/OOPS_1.ipynb\" target=\"_parent\"><img src=\"https://colab.research.google.com/assets/colab-badge.svg\" alt=\"Open In Colab\"/></a>"
      ]
    },
    {
      "cell_type": "markdown",
      "source": [
        "# **Encapsulation**\n",
        "Bundling of data (attributes) and methods (functions) that operate on the data into a single unit called a class. It hides the internal state of an object from the outside world and only exposes selected operations through public methods."
      ],
      "metadata": {
        "id": "VMc5iqv28jVD"
      }
    },
    {
      "cell_type": "code",
      "source": [
        "class Car:\n",
        "    def __init__(self, make, model, year):\n",
        "        self.make = make         # Public attribute\n",
        "        self.model = model       # Public attribute\n",
        "        self.year = year         # Public attribute\n",
        "        self.__odometer = 0     # Private attribute\n",
        "\n",
        "    def drive(self, miles):\n",
        "        \"\"\"Simulate driving and increment odometer.\"\"\"\n",
        "        self.__odometer += miles\n",
        "\n",
        "    def get_odometer_reading(self):\n",
        "        \"\"\"Get current odometer reading.\"\"\"\n",
        "        return self.__odometer\n",
        "\n",
        "# Creating an instance of the Car class\n",
        "my_car = Car(\"Toyota\", \"Camry\", 2022)\n",
        "\n",
        "# Accessing public attributes directly\n",
        "print(f\"My car is a {my_car.year} {my_car.make} {my_car.model}\")\n",
        "\n",
        "# Accessing private attribute through public method\n",
        "my_car.drive(100)\n",
        "print(f\"Odometer reading: {my_car.get_odometer_reading()} miles\")\n"
      ],
      "metadata": {
        "colab": {
          "base_uri": "https://localhost:8080/"
        },
        "id": "1K5Sy_Ku8Meg",
        "outputId": "a1182a5a-9527-47ee-da95-06309ccf6a10"
      },
      "execution_count": 4,
      "outputs": [
        {
          "output_type": "stream",
          "name": "stdout",
          "text": [
            "My car is a 2022 Toyota Camry\n",
            "Odometer reading: 100 miles\n"
          ]
        }
      ]
    },
    {
      "cell_type": "markdown",
      "source": [
        "**Explanation**:\n",
        "\n",
        "Encapsulation: The Car class encapsulates the attributes (make, model, year, and __odometer) and methods (drive() and get_odometer_reading()) into a single unit.\n",
        "Private Attribute: __odometer is a private attribute accessed only through the get_odometer_reading() method, demonstrating data hiding and encapsulation."
      ],
      "metadata": {
        "id": "iUZHFFSh80bK"
      }
    },
    {
      "cell_type": "markdown",
      "source": [
        "_______________________________________________________________________________________________________________________________________________________________________________________________________________________________________________________________________________________________________________________________"
      ],
      "metadata": {
        "id": "yerNlQij84KR"
      }
    },
    {
      "cell_type": "markdown",
      "source": [
        "# **Abstraction**\n",
        "\n",
        "Abstraction focuses on hiding the complex implementation details and exposing only the essential features of an object. It allows you to create a blueprint or interface that hides the internal workings of a class and emphasizes what an object does instead of how it does it."
      ],
      "metadata": {
        "id": "4HFSaKSs9A68"
      }
    },
    {
      "cell_type": "code",
      "source": [
        "from abc import ABC, abstractmethod\n",
        "\n",
        "# Abstract class (cannot be instantiated directly)\n",
        "class Shape(ABC):\n",
        "    @abstractmethod\n",
        "    def calculate_area(self):\n",
        "        pass\n",
        "\n",
        "# Concrete subclass implementing the abstract method\n",
        "class Circle(Shape):\n",
        "    def __init__(self, radius):\n",
        "        self.radius = radius\n",
        "\n",
        "    def calculate_area(self):\n",
        "        return 3.14 * self.radius * self.radius\n",
        "\n",
        "# Creating an instance of the Circle class\n",
        "circle = Circle(5)\n",
        "print(f\"Area of the circle with radius {circle.radius} is: {circle.calculate_area()}\")\n"
      ],
      "metadata": {
        "colab": {
          "base_uri": "https://localhost:8080/"
        },
        "id": "lxO9noLN8vL8",
        "outputId": "33f3a8dd-4295-4952-d3ea-022fa08ab36b"
      },
      "execution_count": 5,
      "outputs": [
        {
          "output_type": "stream",
          "name": "stdout",
          "text": [
            "Area of the circle with radius 5 is: 78.5\n"
          ]
        }
      ]
    },
    {
      "cell_type": "markdown",
      "source": [
        "**Explanation**:\n",
        "\n",
        "Abstraction: The Shape class serves as an abstract base class with an abstract method calculate_area(), which the Circle subclass implements.\n",
        "Abstract Method: calculate_area() defines an abstraction by providing a common interface for calculating the area, hiding the specific implementation details of each shape."
      ],
      "metadata": {
        "id": "_3CuWS-09Mpm"
      }
    }
  ]
}